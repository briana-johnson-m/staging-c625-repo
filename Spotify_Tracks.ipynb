{
 "cells": [
  {
   "cell_type": "markdown",
   "id": "f5011670-eae6-41ed-bfd5-0ca0b1384871",
   "metadata": {},
   "source": [
    "# Exploratory Data Analysis Code: Spotify Tracks"
   ]
  },
  {
   "cell_type": "markdown",
   "id": "b8bfcce5-f5d0-4a25-b0fa-ab739870d313",
   "metadata": {},
   "source": [
    "## Created By: Briana Johnson & Jasmine Armster"
   ]
  },
  {
   "cell_type": "code",
   "execution_count": null,
   "id": "dbf2be64-907b-4a65-9877-e09fda6b217f",
   "metadata": {},
   "outputs": [],
   "source": [
    "import sys\n",
    "!{sys.executable} -m pip install pandas\n",
    "import sys\n",
    "!{sys.executable} -m pip install pandas matplotlib\n",
    "import sys\n",
    "!{sys.executable} -m pip install pandas matplotlib seaborn\n"
   ]
  },
  {
   "cell_type": "code",
   "execution_count": null,
   "id": "7813c25e-410e-495e-b7db-575858872395",
   "metadata": {},
   "outputs": [],
   "source": [
    "import pandas as pd\n",
    "python.exe -m pip install --upgrade pip\n",
    "import numpy as np\n",
    "import matplotlib.pyplot as plt\n",
    "import seaborn as sns"
   ]
  },
  {
   "cell_type": "code",
   "execution_count": null,
   "id": "18523146-b3e4-4060-bc39-500b3a3a759f",
   "metadata": {},
   "outputs": [],
   "source": [
    "df = pd.read_csv(r\"C:\\Users\\jbria\\OneDrive - Old Dominion University\\Summer 2025\\Data Analytics and Big Data\\Assignments\\Assignment2\\Spotify\\tracks.csv\")\n",
    "\n",
    "print(df.shape)\n",
    "df.head"
   ]
  },
  {
   "cell_type": "code",
   "execution_count": null,
   "id": "725a84f2-8608-4d03-b628-eb4def5fe17c",
   "metadata": {},
   "outputs": [],
   "source": [
    "pip install pandasql\n"
   ]
  },
  {
   "cell_type": "code",
   "execution_count": null,
   "id": "545d7279-1549-4a6f-a1fe-964990963faf",
   "metadata": {},
   "outputs": [],
   "source": [
    "from pandasql import sqldf"
   ]
  },
  {
   "cell_type": "code",
   "execution_count": null,
   "id": "dbe30536-fdbe-4a9a-8543-2c1fea320439",
   "metadata": {},
   "outputs": [],
   "source": [
    "pysqldf = lambda q: sqldf(q, globals())"
   ]
  },
  {
   "cell_type": "code",
   "execution_count": null,
   "id": "e51809e2-1836-4cb9-b273-26c76f5c7627",
   "metadata": {},
   "outputs": [],
   "source": [
    "query = \"SELECT name, popularity, explicit, artists, release_date, danceability, energy, loudness FROM df WHERE popularity >= 75\"\n",
    "result = pysqldf(query)\n",
    "print(result.head())"
   ]
  },
  {
   "cell_type": "markdown",
   "id": "b0fae99b-c5e4-46bb-b999-d0894d06a1e6",
   "metadata": {},
   "source": [
    "## Scatter Plot"
   ]
  },
  {
   "cell_type": "code",
   "execution_count": null,
   "id": "cfb3261d-1eef-4e74-ac6c-6344f5582e64",
   "metadata": {},
   "outputs": [],
   "source": [
    "top_artists = df.groupby(\"artists\")[\"popularity\"].mean().nlargest(50).index\n",
    "top_artists_df = df[df[\"artists\"].isin(top_artists)]"
   ]
  },
  {
   "cell_type": "code",
   "execution_count": null,
   "id": "98f89d52-eaf1-4488-8fe8-3b2829ce9d12",
   "metadata": {},
   "outputs": [],
   "source": [
    "#Scatter Plot Artist vs Popularity\n",
    "plt.figure(figsize=(8, 8))\n",
    "sns.catplot(data=top_artists_df, x=\"artists\", y=\"popularity\")\n",
    "plt.title(\"Top Artist\")\n",
    "plt.xticks(rotation=45)\n",
    "plt.tight_layout()\n",
    "#plt.savefig(\"Spotify/Top_Artist_Popularity.jpg\", format=\"jpeg\", dpi=300, bbox_inches=\"tight\")\n",
    "plt.show()"
   ]
  },
  {
   "cell_type": "code",
   "execution_count": null,
   "id": "4d70a671-b260-4f29-a1da-53f86d60757e",
   "metadata": {},
   "outputs": [],
   "source": [
    "top_danceability = df.groupby(\"danceability\")[\"popularity\"].mean().nlargest(20).index\n",
    "top_danceability_df = df[df[\"danceability\"].isin(top_danceability)]"
   ]
  },
  {
   "cell_type": "code",
   "execution_count": null,
   "id": "72aa05f8-cfbe-4ce0-a6a3-276dc6af01ee",
   "metadata": {},
   "outputs": [],
   "source": [
    "#Scatter Plot Danceability vs Popularity\n",
    "plt.figure(figsize=(8, 8))\n",
    "sns.catplot(data=top_danceability_df, x=\"danceability\", y=\"popularity\")\n",
    "plt.title(\"Top Danceability\")\n",
    "plt.xticks(rotation=45)\n",
    "plt.tight_layout()\n",
    "#plt.savefig(\"Spotify/Top_Danceability_Popularity.jpg\", format=\"jpeg\", dpi=300, bbox_inches=\"tight\")\n",
    "plt.show()"
   ]
  },
  {
   "cell_type": "code",
   "execution_count": null,
   "id": "7469673a-d316-43d7-bd3a-b8240a5cce0b",
   "metadata": {},
   "outputs": [],
   "source": [
    "top_explicit = df.groupby(\"explicit\")[\"popularity\"].mean().nlargest(20).index\n",
    "top_explicit_df = df[df[\"explicit\"].isin(top_explicit)]"
   ]
  },
  {
   "cell_type": "code",
   "execution_count": null,
   "id": "54ea5ac4-85de-4da4-90c0-6edad57faec4",
   "metadata": {},
   "outputs": [],
   "source": [
    "#Scatter Plot Explicit vs Popularity\n",
    "plt.figure(figsize=(14, 10))\n",
    "sns.catplot(data=top_explicit_df, x=\"explicit\", y=\"popularity\")\n",
    "plt.title(\"Scatter Plot: Explicit vs Popularity\")\n",
    "plt.xticks(rotation=45)\n",
    "plt.tight_layout()\n",
    "#plt.savefig(\"Spotify/Explicit_vs_Popularity.jpg\", format=\"jpeg\", dpi=300, bbox_inches=\"tight\")\n",
    "plt.show()"
   ]
  },
  {
   "cell_type": "code",
   "execution_count": null,
   "id": "f1ecbdca-cafb-4af0-9294-c8185a2690d4",
   "metadata": {},
   "outputs": [],
   "source": [
    "#Scatter Plot Energy vs Loudness\n",
    "plt.figure(figsize=(8, 8))\n",
    "sns.catplot(data=top_explicit_df, x=\"energy\", y=\"loudness\")\n",
    "plt.title(\"Energy vs Loudness\")\n",
    "plt.xticks(rotation=45)\n",
    "plt.tight_layout()\n",
    "#plt.savefig(\"Spotify/Scatter_Plot_Energy_vs_Loudness.jpg\", format=\"jpeg\", dpi=300, bbox_inches=\"tight\")\n",
    "plt.show()"
   ]
  },
  {
   "cell_type": "markdown",
   "id": "f8a1f587-e901-4949-97b9-1456a517db4a",
   "metadata": {},
   "source": [
    "## Box Plots"
   ]
  },
  {
   "cell_type": "code",
   "execution_count": null,
   "id": "fd14eb53-d754-4291-ad8e-94972db94efc",
   "metadata": {},
   "outputs": [],
   "source": [
    "#Box Plot Danceability vs Popularity \n",
    "plt.figure(figsize=(14, 10))\n",
    "sns.catplot(data=top_danceability_df, x=\"danceability\", y=\"popularity\", kind=\"box\")\n",
    "plt.title(\"Box Plot: Danceability vs Popularity\")\n",
    "plt.xticks(rotation=45)\n",
    "plt.tight_layout()\n",
    "#plt.savefig(\"Spotify/Box_Danceability_vs_Popularity.jpg\", format=\"jpeg\", dpi=300, bbox_inches=\"tight\")\n",
    "plt.show()"
   ]
  },
  {
   "cell_type": "code",
   "execution_count": null,
   "id": "2ebcd74a-f14d-42b4-8517-9728fa2b9034",
   "metadata": {},
   "outputs": [],
   "source": [
    "#Box Pot Explicit vs Popularity\n",
    "plt.figure(figsize=(14, 10))\n",
    "sns.catplot(data=top_explicit_df, x=\"explicit\", y=\"popularity\", kind=\"box\")\n",
    "plt.title(\"Box Pot: Explicit vs Popularity\")\n",
    "plt.xticks(rotation=45)\n",
    "plt.tight_layout()\n",
    "#plt.savefig(\"Spotify/Box_Explicit_vs_Popularity.jpg\", format=\"jpeg\", dpi=300, bbox_inches=\"tight\")\n",
    "plt.show()"
   ]
  },
  {
   "cell_type": "markdown",
   "id": "0ce17e98-cbc3-4eb9-95d4-26d1384fc1c2",
   "metadata": {},
   "source": [
    "## Violin Plot"
   ]
  },
  {
   "cell_type": "code",
   "execution_count": null,
   "id": "2f9f36f0-2b76-4c79-897a-3cee168eef41",
   "metadata": {},
   "outputs": [],
   "source": [
    "top_release_date = df.groupby(\"release_date\")[\"danceability\"].mean().nlargest(20).index\n",
    "top_release_date_df = df[df[\"release_date\"].isin(top_release_date)]"
   ]
  },
  {
   "cell_type": "code",
   "execution_count": null,
   "id": "7124b6b3-44ad-4014-b02b-cff914cf011b",
   "metadata": {},
   "outputs": [],
   "source": [
    "#Violin Plot Danceability vs Release Date\n",
    "sns.catplot(\n",
    "    data=top_release_date_df, x=\"danceability\", y=\"release_date\", kind=\"violin\",\n",
    ")\n",
    "plt.title(\"Violin Plot: Danceability vs Release Date\")\n",
    "plt.xticks(rotation=45)\n",
    "plt.tight_layout()\n",
    "#plt.savefig(\"Spotify/Violin_Danceability_vs_ReleaseDate.jpg\", format=\"jpeg\", dpi=300, bbox_inches=\"tight\")\n",
    "plt.show()"
   ]
  },
  {
   "cell_type": "code",
   "execution_count": null,
   "id": "c31a2c46-2fa8-47f1-a8f1-ccc0ca4f68f9",
   "metadata": {},
   "outputs": [],
   "source": [
    "top_explicit = df.groupby(\"energy\")[\"loudness\"].mean().nlargest(20).index\n",
    "top_explicit_df = df[df[\"energy\"].isin(top_explicit)]"
   ]
  },
  {
   "cell_type": "code",
   "execution_count": null,
   "id": "19d06a75-9347-4654-9bca-83dd0ffb5f22",
   "metadata": {},
   "outputs": [],
   "source": [
    "#Violin Plot Energy vs Loudness\n",
    "sns.catplot(\n",
    "    data=top_explicit_df, x=\"energy\", y=\"loudness\", kind=\"violin\",\n",
    ")\n",
    "plt.title(\"Violin Plot: Energy vs Loudness\")\n",
    "plt.xticks(rotation=45)\n",
    "plt.tight_layout()\n",
    "plt.savefig(\"Spotify/Violin_Energy_vs_Loudness.jpg\", format=\"jpeg\", dpi=300, bbox_inches=\"tight\")\n",
    "plt.show()"
   ]
  },
  {
   "cell_type": "code",
   "execution_count": null,
   "id": "0e75824d-152b-42d5-9bae-c31d5334cab7",
   "metadata": {},
   "outputs": [],
   "source": [
    "df[\"explicit_label\"] = df[\"explicit\"].map({0: \"Not Explicit\", 1: \"Explicit\"})\n",
    "\n",
    "sns.catplot(\n",
    "    data=top_explicit_df, x=\"explicit\", y=\"popularity\",\n",
    "    kind=\"violin\",\n",
    ")\n",
    "plt.title(\"Violin Plot: Explicit vs Popularity\")\n",
    "plt.xticks(rotation=45)\n",
    "plt.tight_layout()\n",
    "#plt.savefig(\"Spotify/Violin_Explicit_vs_Popularity.jpg\", format=\"jpeg\", dpi=300, bbox_inches=\"tight\")\n",
    "plt.show()"
   ]
  },
  {
   "cell_type": "code",
   "execution_count": null,
   "id": "36c75cc0-65e1-412a-ac00-6743a3f1a23a",
   "metadata": {},
   "outputs": [],
   "source": [
    "# Univariate Analysis – Categorical variables.: Box plot and Scatter Plot Done\n",
    "# Univariate Analysis – Continuous Variables. Violin Done\n",
    "#Bivariate Analysis - Scatter Plot. Done \n",
    "#Data Skew / Class imbalance.\n",
    "#Linearity vs non-linearity between features. "
   ]
  },
  {
   "cell_type": "markdown",
   "id": "3a62667a-0e68-4406-9d1c-675954bafe88",
   "metadata": {},
   "source": [
    "## Additional Analysis of Numeric Fields"
   ]
  },
  {
   "cell_type": "code",
   "execution_count": null,
   "id": "aed20e30-e841-4041-95ee-79109b01f4a5",
   "metadata": {},
   "outputs": [],
   "source": [
    "# Danceability, energy, pop, duration\n",
    "#mean, median, min, max, standard deviation\n",
    "\n",
    "columns = ['danceability', 'popularity', 'energy', 'duration_ms']  \n",
    "for col in columns:\n",
    "    # Drop NA values for the column\n",
    "    series = pd.to_numeric(df[col], errors='coerce').dropna()\n",
    "\n",
    "    # Calculateed stats\n",
    "    mean = series.mean()\n",
    "    median = series.median()\n",
    "    std_dev = series.std()\n",
    "    col_min = series.min()\n",
    "    col_max = series.max()\n",
    "\n",
    "    # Printed summary\n",
    "    print(f\"\\n Summary statistics for '{col}':\")\n",
    "    print(f\"Mean: {mean:.2f}\")\n",
    "    print(f\"Median: {median:.2f}\")\n",
    "    print(f\"Min: {col_min:.2f}\")\n",
    "    print(f\"Max: {col_max:.2f}\")\n",
    "    print(f\"Standard Deviation: {std_dev:.2f}\")\n",
    "\n",
    "    # Plot\n",
    "    plt.figure(figsize=(12, 6))\n",
    "    sns.histplot(series, bins=30, kde=True, color='lightblue')\n",
    "\n",
    "    plt.axvline(mean, color='red', linestyle='--', label=f\"Mean: {mean:.2f}\")\n",
    "    plt.axvline(median, color='green', linestyle='--', label=f\"Median: {median:.2f}\")\n",
    "    plt.axvline(col_min, color='gray', linestyle=':', label=f\"Min: {col_min:.2f}\")\n",
    "    plt.axvline(col_max, color='black', linestyle=':', label=f\"Max: {col_max:.2f}\")\n",
    "\n",
    "    plt.title(f\"Distribution of {col.capitalize()} with Summary Stats\")\n",
    "    plt.xlabel(col.capitalize())\n",
    "    plt.ylabel(\"Frequency\")\n",
    "    plt.legend()\n",
    "    plt.tight_layout()\n",
    "    plt.show()"
   ]
  },
  {
   "cell_type": "code",
   "execution_count": null,
   "id": "134f37d6-86d0-4c5f-bfa1-43d14cec0480",
   "metadata": {},
   "outputs": [],
   "source": [
    "# Select only numeric columns\n",
    "numeric_df = df.select_dtypes(include=[\"number\"])\n",
    "\n",
    "# Compute correlation matrix\n",
    "corr_matrix = numeric_df.corr()\n",
    "\n",
    "# Plot the heatmap\n",
    "plt.figure(figsize=(14, 10))\n",
    "sns.heatmap(corr_matrix, annot=True, cmap=\"Blues\")\n",
    "plt.title(\"Correlation Matrix\")\n",
    "plt.savefig(\"Spotify/CorrelationMatrix.jpg\", format=\"jpeg\", dpi=300, bbox_inches=\"tight\")\n",
    "plt.show()\n"
   ]
  }
 ],
 "metadata": {
  "kernelspec": {
   "display_name": "Python [conda env:base] *",
   "language": "python",
   "name": "conda-base-py"
  },
  "language_info": {
   "codemirror_mode": {
    "name": "ipython",
    "version": 3
   },
   "file_extension": ".py",
   "mimetype": "text/x-python",
   "name": "python",
   "nbconvert_exporter": "python",
   "pygments_lexer": "ipython3",
   "version": "3.12.7"
  }
 },
 "nbformat": 4,
 "nbformat_minor": 5
}
